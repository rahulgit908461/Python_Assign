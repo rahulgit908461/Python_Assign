{
 "cells": [
  {
   "cell_type": "code",
   "execution_count": 1,
   "id": "e4a78637-0776-4b3b-9063-ca811b06dd24",
   "metadata": {},
   "outputs": [],
   "source": [
    "#Q1. Explain with an example each when to use a for loop and a while loop."
   ]
  },
  {
   "cell_type": "code",
   "execution_count": 2,
   "id": "edf5b49e-07cf-4518-91c2-c1f3fdb013d0",
   "metadata": {},
   "outputs": [
    {
     "name": "stdout",
     "output_type": "stream",
     "text": [
      "1\n",
      "2\n",
      "3\n",
      "4\n",
      "5\n"
     ]
    }
   ],
   "source": [
    "# Exmple Printing numbers from 1 to 5 using using a for loop \n",
    "for i in range(1,6):\n",
    "    print(i)"
   ]
  },
  {
   "cell_type": "code",
   "execution_count": 3,
   "id": "bef2cd77-cd55-4b39-9a69-1b1d5de4ba7d",
   "metadata": {},
   "outputs": [
    {
     "name": "stdout",
     "output_type": "stream",
     "text": [
      "Sum: 105\n"
     ]
    }
   ],
   "source": [
    "# Example Summing numbers until the sum exceeds 100 using a while loop \n",
    "sum=0\n",
    "counter =1\n",
    "\n",
    "while sum<=100:\n",
    "    sum +=counter\n",
    "    counter +=1\n",
    "    \n",
    "print(\"Sum:\", sum)    "
   ]
  },
  {
   "cell_type": "code",
   "execution_count": 4,
   "id": "87340b77-7ace-4da7-8cc2-3b66ba47e7a7",
   "metadata": {},
   "outputs": [],
   "source": [
    "#Q2. Write a python program to print the sum and product of the first 10 natural numbers using for\n",
    "#and while loop."
   ]
  },
  {
   "cell_type": "code",
   "execution_count": 5,
   "id": "704b6454-23ed-40b4-b1a7-30740bdd1fff",
   "metadata": {},
   "outputs": [
    {
     "name": "stdout",
     "output_type": "stream",
     "text": [
      "Sum of the first 10 natural numbers: 55\n",
      "Product of the first 10 natural numbers: 3628800\n"
     ]
    }
   ],
   "source": [
    "# Using a for loop\n",
    "sum = 0\n",
    "product = 1\n",
    "\n",
    "for num in range(1, 11):\n",
    "    sum += num\n",
    "    product *= num\n",
    "\n",
    "print(\"Sum of the first 10 natural numbers:\", sum)\n",
    "print(\"Product of the first 10 natural numbers:\", product)"
   ]
  },
  {
   "cell_type": "code",
   "execution_count": 6,
   "id": "e9bf1bfe-3c99-4ab8-8ce7-b3e98f0c5a3e",
   "metadata": {},
   "outputs": [
    {
     "name": "stdout",
     "output_type": "stream",
     "text": [
      "Sum of the first 10 natural numbers: 55\n",
      "Product of the first 10 natural numbers: 3628800\n"
     ]
    }
   ],
   "source": [
    "# Using a while loop\n",
    "sum = 0\n",
    "product = 1\n",
    "num = 1\n",
    "\n",
    "while num <= 10:\n",
    "    sum += num\n",
    "    product *= num\n",
    "    num += 1\n",
    "\n",
    "print(\"Sum of the first 10 natural numbers:\", sum)\n",
    "print(\"Product of the first 10 natural numbers:\", product)"
   ]
  },
  {
   "cell_type": "code",
   "execution_count": 7,
   "id": "66da035e-3e3e-44f5-b542-a93b4d590f29",
   "metadata": {},
   "outputs": [],
   "source": [
    "#Q3. Create a python program to compute the electricity bill for a household.\n",
    "#The per-unit charges in rupees are as follows: For the first 100 units, the user will be charged Rs. 4.5 per\n",
    "#unit, for the next 100 units, the user will be charged Rs. 6 per unit, and for the next 100 units, the user will\n",
    "#be charged Rs. 10 per unit, After 300 units and above the user will be charged Rs. 20 per unit.\n",
    "#You are required to take the units of electricity consumed in a month from the user as input.\n",
    "#Your program must pass this test case: when the unit of electricity consumed by the user in a month is\n",
    "#310, the total electricity bill should be 2250."
   ]
  },
  {
   "cell_type": "code",
   "execution_count": 9,
   "id": "67890a00-3b7d-4547-b67b-59fe1c764936",
   "metadata": {},
   "outputs": [
    {
     "name": "stdin",
     "output_type": "stream",
     "text": [
      "Enter the units of electricity consumed in a month:  310\n"
     ]
    },
    {
     "name": "stdout",
     "output_type": "stream",
     "text": [
      "The total electricity bill is: Rs. 2250.0\n"
     ]
    }
   ],
   "source": [
    "def calculate_electricity_bill(units):\n",
    "    total_bill = 0\n",
    "    \n",
    "    if units <= 100:\n",
    "        total_bill = units * 4.5\n",
    "    elif units <= 200:\n",
    "        total_bill = 100 * 4.5 + (units - 100) * 6\n",
    "    elif units <= 300:\n",
    "        total_bill = 100 * 4.5 + 100 * 6 + (units - 200) * 10\n",
    "    else:\n",
    "        total_bill = 100 * 4.5 + 100 * 6 + 100 * 10 + (units - 300) * 20\n",
    "    \n",
    "    return total_bill\n",
    "\n",
    "# Example usage\n",
    "units_consumed = int(input(\"Enter the units of electricity consumed in a month: \"))\n",
    "bill_amount = calculate_electricity_bill(units_consumed)\n",
    "print(\"The total electricity bill is: Rs.\", bill_amount)"
   ]
  },
  {
   "cell_type": "code",
   "execution_count": 10,
   "id": "c5916684-37a1-45be-9ccb-aee76d33bfdf",
   "metadata": {},
   "outputs": [],
   "source": [
    "#Q4. Create a list of numbers from 1 to 100. Use for loop and while loop to calculate the cube of each\n",
    "#number and if the cube of that number is divisible by 4 or 5 then append that number in a list and print\n",
    "#that list."
   ]
  },
  {
   "cell_type": "code",
   "execution_count": 11,
   "id": "90bad18b-0b51-4d86-bee5-93dc81754176",
   "metadata": {},
   "outputs": [
    {
     "name": "stdout",
     "output_type": "stream",
     "text": [
      "[2, 4, 5, 6, 8, 10, 12, 14, 15, 16, 18, 20, 22, 24, 25, 26, 28, 30, 32, 34, 35, 36, 38, 40, 42, 44, 45, 46, 48, 50, 52, 54, 55, 56, 58, 60, 62, 64, 65, 66, 68, 70, 72, 74, 75, 76, 78, 80, 82, 84, 85, 86, 88, 90, 92, 94, 95, 96, 98, 100]\n"
     ]
    }
   ],
   "source": [
    "## Using for loop\n",
    "number_list = list(range(1, 101))  # Create a list of numbers from 1 to 100\n",
    "divisible_by_4_or_5 = []  # Empty list to store the numbers whose cube is divisible by 4 or 5\n",
    "\n",
    "for num in number_list:\n",
    "    cube = num ** 3  # Calculate the cube of the number\n",
    "    if cube % 4 == 0 or cube % 5 == 0:\n",
    "        divisible_by_4_or_5.append(num)\n",
    "\n",
    "print(divisible_by_4_or_5)"
   ]
  },
  {
   "cell_type": "code",
   "execution_count": 12,
   "id": "0f84597e-f6b7-4465-9734-e6505c6d084d",
   "metadata": {},
   "outputs": [
    {
     "name": "stdout",
     "output_type": "stream",
     "text": [
      "[2, 4, 5, 6, 8, 10, 12, 14, 15, 16, 18, 20, 22, 24, 25, 26, 28, 30, 32, 34, 35, 36, 38, 40, 42, 44, 45, 46, 48, 50, 52, 54, 55, 56, 58, 60, 62, 64, 65, 66, 68, 70, 72, 74, 75, 76, 78, 80, 82, 84, 85, 86, 88, 90, 92, 94, 95, 96, 98, 100]\n"
     ]
    }
   ],
   "source": [
    "## Using while loop\n",
    "number_list = list(range(1, 101))  # Create a list of numbers from 1 to 100\n",
    "divisible_by_4_or_5 = []  # Empty list to store the numbers whose cube is divisible by 4 or 5\n",
    "\n",
    "i = 0\n",
    "while i < len(number_list):\n",
    "    num = number_list[i]\n",
    "    cube = num ** 3  # Calculate the cube of the number\n",
    "    if cube % 4 == 0 or cube % 5 == 0:\n",
    "        divisible_by_4_or_5.append(num)\n",
    "    i += 1\n",
    "\n",
    "print(divisible_by_4_or_5)"
   ]
  },
  {
   "cell_type": "code",
   "execution_count": 13,
   "id": "9244cec1-6177-423c-af56-d33d28320369",
   "metadata": {},
   "outputs": [],
   "source": [
    "#Q5. Write a program to filter count vowels in the below-given string.\n",
    "#string = \"I want to become a data scientist\""
   ]
  },
  {
   "cell_type": "code",
   "execution_count": 14,
   "id": "a352720c-b19d-4f98-af81-9edc4bcfdbf3",
   "metadata": {},
   "outputs": [
    {
     "name": "stdout",
     "output_type": "stream",
     "text": [
      "Number of vowels: 12\n"
     ]
    }
   ],
   "source": [
    "def count_vowels(string):\n",
    "    vowels = 'aeiouAEIOU'\n",
    "    count = 0\n",
    "\n",
    "    for char in string:\n",
    "        if char in vowels:\n",
    "            count += 1\n",
    "\n",
    "    return count\n",
    "\n",
    "string = \"I want to become a data scientist\"\n",
    "vowel_count = count_vowels(string)\n",
    "print(\"Number of vowels:\", vowel_count)"
   ]
  },
  {
   "cell_type": "code",
   "execution_count": null,
   "id": "828297f1-229b-4158-a917-83260c5ab293",
   "metadata": {},
   "outputs": [],
   "source": []
  }
 ],
 "metadata": {
  "kernelspec": {
   "display_name": "Python 3 (ipykernel)",
   "language": "python",
   "name": "python3"
  },
  "language_info": {
   "codemirror_mode": {
    "name": "ipython",
    "version": 3
   },
   "file_extension": ".py",
   "mimetype": "text/x-python",
   "name": "python",
   "nbconvert_exporter": "python",
   "pygments_lexer": "ipython3",
   "version": "3.10.8"
  }
 },
 "nbformat": 4,
 "nbformat_minor": 5
}
